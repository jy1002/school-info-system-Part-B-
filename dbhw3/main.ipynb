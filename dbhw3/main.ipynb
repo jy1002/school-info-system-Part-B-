{
 "cells": [
  {
   "cell_type": "code",
   "execution_count": 1,
   "metadata": {
    "scrolled": true
   },
   "outputs": [
    {
     "name": "stdout",
     "output_type": "stream",
     "text": [
      "importing Jupyter notebook from user.ipynb\n",
      "importing Jupyter notebook from menu_A.ipynb\n",
      "importing Jupyter notebook from menu_B.ipynb\n",
      "importing Jupyter notebook from menu_C.ipynb\n"
     ]
    }
   ],
   "source": [
    "import MySQLdb\n",
    "\n",
    "import import_ipynb\n",
    "\n",
    "\n",
    "from user import User\n",
    "import menu_A\n",
    "import menu_B\n",
    "import menu_C\n",
    "\n",
    "conn_host = \"localhost\"\n",
    "conn_port = 3306\n",
    "conn_user = \"root\"\n",
    "conn_passwd = \"masterpiece7\"\n",
    "conn_db = \"my_testdb\"\n"
   ]
  },
  {
   "cell_type": "code",
   "execution_count": 2,
   "metadata": {},
   "outputs": [],
   "source": [
    "def student_menu(student, db):\n",
    "    print(\"Welcome %s\" % student.name)\n",
    "    print(\"0) Quit\")\n",
    "    print(\"1) Show Prerequisite Course\")\n",
    "    print(\"2) Show Timetable Information\")\n",
    "    print(\"3) Check Student Status\")\n",
    "    choice = int(input(\"Enter: \"))\n",
    "    if choice == 0:\n",
    "        return\n",
    "    elif choice == 1:\n",
    "        menu_A.student_menu1(student, db)\n",
    "    elif choice == 2:\n",
    "        menu_A.student_menu2(student, db)\n",
    "    elif choice == 3:\n",
    "        menu_B.student_menu3(student, db)\n",
    "        "
   ]
  },
  {
   "cell_type": "code",
   "execution_count": 3,
   "metadata": {},
   "outputs": [],
   "source": [
    "def instructor_menu(student, db):\n",
    "    print(\"select instructor menu\")\n",
    "    print(\"1) Course Report\")\n",
    "    print(\"2) Search Student\")\n",
    "    print(\"3) Salary Report\")\n",
    "    print(\"4) Average Salary Report\")\n",
    "    print(\"5) Above Average Salary Report\")\n",
    "    print(\"0) Quit\")\n",
    "    choice = int(input(\"Enter: \"))\n",
    "    if choice == 0:\n",
    "        return\n",
    "    elif choice == 1:\n",
    "        menu_B.instructor_menu1(student, db)\n",
    "    elif choice == 2:\n",
    "        menu_C.instructor_menu2(student, db)\n",
    "    elif choice == 3:\n",
    "        menu_C.instructor_menu3(student, db)\n",
    "    elif choice == 4:\n",
    "        menu_C.instructor_menu4(student, db)\n",
    "    elif choice == 5:\n",
    "        menu_C.instructor_menu5(student, db)"
   ]
  },
  {
   "cell_type": "code",
   "execution_count": 4,
   "metadata": {},
   "outputs": [],
   "source": [
    "db = MySQLdb.connect(host = conn_host, port = conn_port, user = conn_user, passwd = conn_passwd, db = conn_db)"
   ]
  },
  {
   "cell_type": "code",
   "execution_count": null,
   "metadata": {
    "scrolled": true
   },
   "outputs": [
    {
     "name": "stdout",
     "output_type": "stream",
     "text": [
      "Welcome\n",
      "Please sign in\n"
     ]
    }
   ],
   "source": [
    "print(\"Welcome\")\n",
    "print(\"Please sign in\")\n",
    "auth_success = False\n",
    "while not auth_success:\n",
    "    \n",
    "    user_id = input(\"ID        :\")\n",
    "    user_name = input(\"Name      :\")\n",
    "    user_is_student = False\n",
    "    user_is_instructor = False\n",
    "    \n",
    "    cur = db.cursor()\n",
    "    try:\n",
    "        cur.execute(\"SELECT ID, name\\\n",
    "                    FROM student as s\\\n",
    "                    WHERE s.ID = '%s' and s.name = '%s'\"\\\n",
    "                   % (user_id, user_name))\n",
    "    except Exception as err:\n",
    "        print(err)\n",
    "        db.rollback()\n",
    "        continue\n",
    "    if cur.rowcount > 0:\n",
    "        user_is_student = True\n",
    "    else:\n",
    "        try:\n",
    "            cur.execute(\"SELECT ID, name\\\n",
    "                        FROM instructor as s\\\n",
    "                        WHERE s.ID = '%s' and s.name = '%s'\"\\\n",
    "                       % (user_id, user_name))\n",
    "        except Exception as err:\n",
    "            print(err)\n",
    "            db.rollback()\n",
    "            continue\n",
    "        if cur.rowcount > 0:\n",
    "            user_is_instructor = True\n",
    "    cur.close()\n",
    "    if user_is_student:\n",
    "        auth_success = True\n",
    "        user = User(user_id, user_name, user_is_student, user_is_instructor)\n",
    "        student_menu(user, db)\n",
    "    elif user_is_instructor:\n",
    "        auth_success = True\n",
    "        user = User(user_id, user_name, user_is_student, user_is_instructor)\n",
    "        instructor_menu(user, db)\n",
    "    else:\n",
    "        print(\"Wrong authentication.\")"
   ]
  },
  {
   "cell_type": "code",
   "execution_count": 6,
   "metadata": {
    "scrolled": false
   },
   "outputs": [
    {
     "ename": "NameError",
     "evalue": "name 'Levy' is not defined",
     "output_type": "error",
     "traceback": [
      "\u001b[1;31m---------------------------------------------------------------------------\u001b[0m",
      "\u001b[1;31mNameError\u001b[0m                                 Traceback (most recent call last)",
      "\u001b[1;32m<ipython-input-6-de9e114fc429>\u001b[0m in \u001b[0;36m<module>\u001b[1;34m\u001b[0m\n\u001b[1;32m----> 1\u001b[1;33m \u001b[0mLevy\u001b[0m\u001b[1;33m\u001b[0m\u001b[1;33m\u001b[0m\u001b[0m\n\u001b[0m",
      "\u001b[1;31mNameError\u001b[0m: name 'Levy' is not defined"
     ]
    }
   ],
   "source": [
    "Levy"
   ]
  },
  {
   "cell_type": "code",
   "execution_count": null,
   "metadata": {},
   "outputs": [],
   "source": [
    "45678"
   ]
  }
 ],
 "metadata": {
  "kernelspec": {
   "display_name": "Python 3",
   "language": "python",
   "name": "python3"
  },
  "language_info": {
   "codemirror_mode": {
    "name": "ipython",
    "version": 3
   },
   "file_extension": ".py",
   "mimetype": "text/x-python",
   "name": "python",
   "nbconvert_exporter": "python",
   "pygments_lexer": "ipython3",
   "version": "3.7.4"
  }
 },
 "nbformat": 4,
 "nbformat_minor": 5
}
