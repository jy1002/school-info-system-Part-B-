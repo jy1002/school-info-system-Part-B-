{
 "cells": [
  {
   "cell_type": "code",
   "execution_count": null,
   "id": "75a46cd5",
   "metadata": {},
   "outputs": [],
   "source": [
    "import MySQLdb\n",
    "\n",
    "import import_ipynb\n",
    "\n",
    "from user import User\n",
    "\n",
    "def student_menu1(student, db):\n",
    "    print(\"Please select course to view prereq\")\n",
    "    #TODO\n",
    "    \n",
    "    choice = input(\"Enter: \")\n",
    "    #TODO\n",
    "    \n",
    "    \n",
    "def student_menu2(student, db):\n",
    "    print(\"Please select semester to view\")\n",
    "    #TODO\n",
    "    \n",
    "    choice = input(\"Enter: \")\n",
    "    #TODO\n",
    "    "
   ]
  }
 ],
 "metadata": {
  "kernelspec": {
   "display_name": "Python 3",
   "language": "python",
   "name": "python3"
  },
  "language_info": {
   "codemirror_mode": {
    "name": "ipython",
    "version": 3
   },
   "file_extension": ".py",
   "mimetype": "text/x-python",
   "name": "python",
   "nbconvert_exporter": "python",
   "pygments_lexer": "ipython3",
   "version": "3.8.8"
  }
 },
 "nbformat": 4,
 "nbformat_minor": 5
}
