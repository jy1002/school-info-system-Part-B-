{
 "cells": [
  {
   "cell_type": "code",
   "execution_count": null,
   "id": "b9c741ec",
   "metadata": {},
   "outputs": [],
   "source": [
    "import MySQLdb\n",
    "\n",
    "import import_ipynb\n",
    "\n",
    "from user import User\n",
    "\n",
    "def instructor_menu2(student, db):\n",
    "    search_str = input(\"Insert Student ID or Name : \")\n",
    "    #TODO\n",
    "    #아마 ID든 name이든 부분문자열에 들어있는지로 판단하면 될 것 같습니다. 44553 같은 게 이름에 들어가는 경우 배제하고\n",
    "    \n",
    "def instructor_menu3(student, db):\n",
    "    #TODO modify below(함수에 아무것도 없으면 오류가 생겨서 아무 문장이나 적어놨습니다.)\n",
    "    total_count = 0\n",
    "    if total_count >= 3:\n",
    "        #\n",
    "        print(\"total_count : %s\" % total_count)\n",
    "    \n",
    "def instructor_menu4(student, db):\n",
    "    dept = input(\"Insert department name for avg salary : \")\n",
    "    #TODO\n",
    "    \n",
    "    \n",
    "def instructor_menu5(student, db):\n",
    "    dept = input(\"Insert department name for above avg salary : \")\n",
    "    #TODO\n",
    "    "
   ]
  }
 ],
 "metadata": {
  "kernelspec": {
   "display_name": "Python 3",
   "language": "python",
   "name": "python3"
  },
  "language_info": {
   "codemirror_mode": {
    "name": "ipython",
    "version": 3
   },
   "file_extension": ".py",
   "mimetype": "text/x-python",
   "name": "python",
   "nbconvert_exporter": "python",
   "pygments_lexer": "ipython3",
   "version": "3.8.8"
  }
 },
 "nbformat": 4,
 "nbformat_minor": 5
}
